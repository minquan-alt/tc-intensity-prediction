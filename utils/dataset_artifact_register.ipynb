{
  "cells": [
    {
      "cell_type": "code",
      "execution_count": 1,
      "metadata": {
        "id": "fFoDXRLl3apE"
      },
      "outputs": [],
      "source": [
        "import numpy as np\n",
        "import pandas as pd\n",
        "import matplotlib.pyplot as plt\n",
        "import os\n",
        "import gc\n",
        "import pickle\n",
        "import wandb\n",
        "\n",
        "import torch\n",
        "import torch.nn as nn\n",
        "import torch.optim as optim\n",
        "from torch.utils.data import DataLoader, Dataset\n",
        "from torchinfo import summary\n",
        "\n",
        "from layer.kan_layer import KANLinear, NewGELU\n",
        "from sklearn.preprocessing import StandardScaler\n",
        "import time\n",
        "\n",
        "SEED = 42\n",
        "np.random.seed(SEED)\n",
        "torch.manual_seed(SEED)\n",
        "torch.cuda.manual_seed(SEED)\n",
        "os.environ[\"PYTHONHASHSEED\"] = str(SEED)"
      ]
    },
    {
      "cell_type": "code",
      "execution_count": 2,
      "metadata": {
        "id": "wOWAQoGDiAqu"
      },
      "outputs": [],
      "source": [
        "def get_raw_data(raw_data_dict):\n",
        "  raw_data = {}\n",
        "  for dict_ in raw_data_dict.values():\n",
        "    raw_data.update(dict_)\n",
        "  return raw_data\n",
        "def load_and_process_data(data_path, train_years, val_years, test_years):\n",
        "  raw_train_data_dict = {}\n",
        "  raw_val_data_dict = {}\n",
        "  raw_test_data_dict = {}\n",
        "  for filename in os.listdir(data_path):\n",
        "    if filename.endswith('.pkl'):\n",
        "      year = int(filename[11:15])\n",
        "      if year not in train_years and year not in val_years and year not in test_years:\n",
        "        continue\n",
        "      with open(os.path.join(data_path, filename), 'rb') as f:\n",
        "        data = pickle.load(f)\n",
        "        if year in train_years:\n",
        "          raw_train_data_dict[filename] = data\n",
        "        elif year in val_years:\n",
        "          raw_val_data_dict[filename] = data\n",
        "        elif year in test_years:\n",
        "          raw_test_data_dict[filename] = data\n",
        "        else:\n",
        "          raise ValueError(f\"Invalid year: {year}\")\n",
        "\n",
        "  raw_train_data_dict = dict(sorted(raw_train_data_dict.items()))\n",
        "  raw_val_data_dict = dict(sorted(raw_val_data_dict.items()))\n",
        "  raw_test_data_dict = dict(sorted(raw_test_data_dict.items()))\n",
        "\n",
        "  raw_train_data = get_raw_data(raw_train_data_dict)\n",
        "  raw_val_data = get_raw_data(raw_val_data_dict)\n",
        "  raw_test_data = get_raw_data(raw_test_data_dict)\n",
        "  return raw_train_data, raw_val_data, raw_test_data\n",
        "\n",
        "def prepare_data(storm_data, sequence_length, n_ahead, dtype=np.float32):\n",
        "  total_sequence = 0\n",
        "  center_grid = 15\n",
        "  for sid, storm_records in storm_data.items():\n",
        "    if len(storm_records) < sequence_length + n_ahead:\n",
        "      continue\n",
        "    total_sequence += len(storm_records) - sequence_length - n_ahead + 1\n",
        "\n",
        "  first_key = next(iter(storm_data.keys()))\n",
        "\n",
        "  cma_len = len(storm_data[first_key][0]['targets'])\n",
        "  era5_single_len = storm_data[first_key][0]['features']['single'].shape[0]\n",
        "  era5_multi_len = storm_data[first_key][0]['features']['multi'][1:4].shape[0] * storm_data[first_key][0]['features']['multi'].shape[1]\n",
        "  features_len = cma_len + era5_single_len + era5_multi_len\n",
        "  input_shape = (total_sequence, sequence_length, features_len)\n",
        "  output_shape = (total_sequence, n_ahead)\n",
        "\n",
        "  X_sequences = np.empty(input_shape, dtype=dtype)\n",
        "  y_sequences = np.empty(output_shape, dtype=dtype)\n",
        "  sequence_metadata = [None] * total_sequence\n",
        "\n",
        "  valid_storms = 0\n",
        "  idx = 0\n",
        "\n",
        "  for sid, storm_records in storm_data.items():\n",
        "    if len(storm_records) < sequence_length + n_ahead:\n",
        "      continue\n",
        "\n",
        "    valid_storms += 1\n",
        "    L = len(storm_records) - sequence_length - n_ahead + 1\n",
        "\n",
        "    for i in range(L):\n",
        "      for j in range(sequence_length):\n",
        "        target = storm_records[i + j]['targets']\n",
        "        cma_features = dtype([target['center_lat'],target['center_lon'],target['vmax'],target['pmin']])\n",
        "\n",
        "        era5_features = []\n",
        "        single_era5_features = storm_records[i + j]['features']['single']\n",
        "        multi_era5_features = storm_records[i + j]['features']['multi'][1:4, :, :, :]\n",
        "\n",
        "        for m in range(single_era5_features.shape[0]):\n",
        "          era5_features.append(single_era5_features[m, center_grid, center_grid])\n",
        "        for m in range(multi_era5_features.shape[0]):\n",
        "          for n in range(multi_era5_features.shape[1]):\n",
        "            era5_features.append(multi_era5_features[m, n, center_grid, center_grid])\n",
        "\n",
        "        era5_features = dtype(era5_features)\n",
        "\n",
        "        X_sequences[idx, j, :4] = cma_features\n",
        "        X_sequences[idx, j, 4:] = era5_features\n",
        "\n",
        "      for j in range(n_ahead):\n",
        "        target = storm_records[i + sequence_length + j]['targets']\n",
        "        y_sequences[idx, j] = dtype(target['vmax'])\n",
        "\n",
        "      sequence_metadata[idx] = {\n",
        "        'storm_id': sid,\n",
        "        'input_times': [storm_records[i + j]['time'] for j in range(sequence_length)],\n",
        "        'target_time': [storm_records[i + sequence_length + j]['time'] for j in range(n_ahead)]\n",
        "      }\n",
        "\n",
        "      idx += 1\n",
        "  if idx < total_sequence:\n",
        "    X_sequences = X_sequences[:idx]\n",
        "    y_sequences = y_sequences[:idx]\n",
        "    sequence_metadata = sequence_metadata[:idx]\n",
        "\n",
        "  metadata = {\n",
        "    'n_sequences': idx,\n",
        "    'sequence_length': sequence_length,\n",
        "    'n_storms': valid_storms,\n",
        "    'sequence_metadata': sequence_metadata,\n",
        "  }\n",
        "\n",
        "  gc.collect()\n",
        "  return (X_sequences, y_sequences, metadata)\n",
        "\n",
        "class StormDataset(Dataset):\n",
        "    def __init__(self, X, y):\n",
        "        self.X = torch.as_tensor(X, dtype=torch.float32)\n",
        "        self.y = torch.as_tensor(y, dtype=torch.float32)\n",
        "    def __len__(self):\n",
        "        return len(self.X)\n",
        "\n",
        "    def __getitem__(self, idx):\n",
        "        return self.X[idx], self.y[idx]"
      ]
    },
    {
      "cell_type": "code",
      "execution_count": null,
      "metadata": {},
      "outputs": [],
      "source": [
        "def prepare_data_6d(storm_data, sequence_length, n_ahead, dtype=np.float32):\n",
        "    # Tạo sliding windows\n",
        "    X_sequences_multi = []\n",
        "    X_sequences_single = []\n",
        "    sequence_metadata = []\n",
        "\n",
        "    # in_multi_size = ()\n",
        "\n",
        "    valid_storms = 0\n",
        "    total_sequence = 0\n",
        "    for sid, storm_records in storm_data.items():\n",
        "        if len(storm_records) < sequence_length + n_ahead:\n",
        "            continue\n",
        "        total_sequence += len(storm_records) - sequence_length - n_ahead + 1\n",
        "\n",
        "    y_sequences = np.empty((total_sequence, n_ahead))\n",
        "    \n",
        "    idx = 0\n",
        "\n",
        "    for sid, storm_records in storm_data.items():\n",
        "        if len(storm_records) < sequence_length + 1:  # Cần ít nhất 5 time steps (4 input + 1 target)\n",
        "            print(f\"Bỏ qua storm {sid}: chỉ có {len(storm_records)} time steps (cần ít nhất {sequence_length + 1})\")\n",
        "            continue\n",
        "\n",
        "        valid_storms += 1\n",
        "        storm_sequences = 0\n",
        "        L = len(storm_records) - sequence_length - n_ahead + 1\n",
        "\n",
        "        # Tạo sliding window cho mỗi cơn bão\n",
        "        for i in range(L):\n",
        "            # Input: 4 time steps liên tiếp\n",
        "            input_sequence = {\n",
        "                'multi': [],\n",
        "                'single': []\n",
        "            }\n",
        "            # first_storm_time = storm_records[i]['time']\n",
        "            # storm_record_targets = []\n",
        "            for j in range(sequence_length):\n",
        "                target = storm_records[i + j]['targets']\n",
        "                cma_features = dtype([target['center_lat'],target['center_lon'],target['vmax'],target['pmin']])\n",
        "                cma_features = np.array(cma_features)\n",
        "\n",
        "\n",
        "                single_era5_features = storm_records[i + j]['features']['single']\n",
        "                multi_era5_features = storm_records[i + j]['features']['multi']\n",
        "                single_era5_features = single_era5_features[None, :, :, :]\n",
        "                single_era5_features = np.array(single_era5_features)\n",
        "                multi_era5_features = np.array(multi_era5_features)\n",
        "                era5_features = np.concatenate([single_era5_features, multi_era5_features], axis=0)\n",
        "\n",
        "                input_sequence['single'].append(cma_features)\n",
        "                input_sequence['multi'].append(era5_features)\n",
        "            \n",
        "\n",
        "            # input_sequence['single'].append(generate_single_data(storm_record_targets, first_storm_time))\n",
        "            for j in range(n_ahead):\n",
        "                target = storm_records[i + sequence_length + j]['targets']\n",
        "                y_sequences[idx, j] = dtype(target['vmax'])\n",
        "\n",
        "            X_sequences_multi.append(input_sequence['multi'])\n",
        "            X_sequences_single.append(input_sequence['single'])\n",
        "\n",
        "            # Tao metadata\n",
        "            sequence_metadata.append({\n",
        "                'storm_id': sid,\n",
        "                'input_times': [storm_records[i + j]['time'] for j in range(sequence_length)],\n",
        "                'target_time': storm_records[i + sequence_length]['time']\n",
        "            })\n",
        "\n",
        "            idx += 1\n",
        "\n",
        "    X_multi = np.array(X_sequences_multi)\n",
        "    X_single = np.array(X_sequences_single)\n",
        "    # X_single = X_single.reshape(X_single.shape[0], 76)\n",
        "    y = np.array(y_sequences)\n",
        "\n",
        "\n",
        "    # Tạo metadata\n",
        "    metadata = {\n",
        "        'n_sequences': idx,\n",
        "        'sequence_length': sequence_length,\n",
        "        'n_storms': valid_storms,\n",
        "        'sequence_metadata': sequence_metadata,\n",
        "    }\n",
        "\n",
        "    # print(f\"\\nData preparation completed:\")\n",
        "    # print(f\"  Số cơn bão: {valid_storms}\")\n",
        "    # print(f\"  Số sequences: {len(X_sequences_multi)}\")\n",
        "    # print(f\"  Shape X_multi: {X_multi.shape}\")\n",
        "    # print(f\"  Shape X_single: {X_single.shape}\")\n",
        "    # print(f\"  Shape y: {y.shape}\")\n",
        "\n",
        "    return X_multi, X_single, y, metadata"
      ]
    },
    {
      "cell_type": "code",
      "execution_count": 14,
      "metadata": {},
      "outputs": [],
      "source": [
        "data_path = 'data/cma-era5-data'\n",
        "raw_train_data, raw_val_data, raw_test_data = load_and_process_data(data_path=data_path, train_years=list(range(1980, 2017)), val_years=[2017, 2018, 2019], test_years=[2020, 2021, 2022])"
      ]
    },
    {
      "cell_type": "code",
      "execution_count": 42,
      "metadata": {},
      "outputs": [
        {
          "name": "stdout",
          "output_type": "stream",
          "text": [
            "Bỏ qua storm 7-2022: chỉ có 4 time steps (cần ít nhất 6)\n",
            "\n",
            "Data preparation completed:\n",
            "  Số cơn bão: 80\n",
            "  Số sequences: 1588\n",
            "  Shape X_multi: (1588, 5, 6, 4, 31, 31)\n",
            "  Shape X_single: (1588, 5, 4)\n",
            "  Shape y: (1588, 4)\n"
          ]
        }
      ],
      "source": [
        "Xm, Xs, y, _ = prepare_data_6d(raw_test_data, 5, 4)"
      ]
    },
    {
      "cell_type": "markdown",
      "metadata": {},
      "source": [
        "## Register Storm dataset"
      ]
    },
    {
      "cell_type": "markdown",
      "metadata": {},
      "source": [
        "### 2D Storm Dataset \n",
        "(seq_len, n_features)"
      ]
    },
    {
      "cell_type": "code",
      "execution_count": null,
      "metadata": {},
      "outputs": [],
      "source": [
        "data_path = 'data/cma-era5-data'\n",
        "raw_train_data, raw_val_data, raw_test_data = load_and_process_data(data_path=data_path, train_years=list(range(1980, 2017)), val_years=[2017, 2018, 2019], test_years=[2020, 2021, 2022])"
      ]
    },
    {
      "cell_type": "code",
      "execution_count": 14,
      "metadata": {},
      "outputs": [
        {
          "data": {
            "text/html": [
              "Finishing previous runs because reinit is set to 'default'."
            ],
            "text/plain": [
              "<IPython.core.display.HTML object>"
            ]
          },
          "metadata": {},
          "output_type": "display_data"
        },
        {
          "data": {
            "text/html": [],
            "text/plain": [
              "<IPython.core.display.HTML object>"
            ]
          },
          "metadata": {},
          "output_type": "display_data"
        },
        {
          "data": {
            "text/html": [
              " View run <strong style=\"color:#cdcd00\">neat-water-3</strong> at: <a href='https://wandb.ai/hbminhquang-19-uit/Dataset%20Artifact/runs/98oinbbu' target=\"_blank\">https://wandb.ai/hbminhquang-19-uit/Dataset%20Artifact/runs/98oinbbu</a><br> View project at: <a href='https://wandb.ai/hbminhquang-19-uit/Dataset%20Artifact' target=\"_blank\">https://wandb.ai/hbminhquang-19-uit/Dataset%20Artifact</a><br>Synced 3 W&B file(s), 0 media file(s), 0 artifact file(s) and 0 other file(s)"
            ],
            "text/plain": [
              "<IPython.core.display.HTML object>"
            ]
          },
          "metadata": {},
          "output_type": "display_data"
        },
        {
          "data": {
            "text/html": [
              "Find logs at: <code>.\\wandb\\run-20250928_205401-98oinbbu\\logs</code>"
            ],
            "text/plain": [
              "<IPython.core.display.HTML object>"
            ]
          },
          "metadata": {},
          "output_type": "display_data"
        },
        {
          "data": {
            "text/html": [],
            "text/plain": [
              "<IPython.core.display.HTML object>"
            ]
          },
          "metadata": {},
          "output_type": "display_data"
        },
        {
          "data": {
            "text/html": [
              "Tracking run with wandb version 0.22.0"
            ],
            "text/plain": [
              "<IPython.core.display.HTML object>"
            ]
          },
          "metadata": {},
          "output_type": "display_data"
        },
        {
          "data": {
            "text/html": [
              "Run data is saved locally in <code>D:\\Learning\\NCKH\\Tropical Cyclone Forecasting\\wandb\\run-20250928_205833-sdft1vfp</code>"
            ],
            "text/plain": [
              "<IPython.core.display.HTML object>"
            ]
          },
          "metadata": {},
          "output_type": "display_data"
        },
        {
          "data": {
            "text/html": [
              "Syncing run <strong><a href='https://wandb.ai/hbminhquang-19-uit/Dataset%20Artifact/runs/sdft1vfp' target=\"_blank\">legendary-morning-2</a></strong> to <a href='https://wandb.ai/hbminhquang-19-uit/Dataset%20Artifact' target=\"_blank\">Weights & Biases</a> (<a href='https://wandb.me/developer-guide' target=\"_blank\">docs</a>)<br>"
            ],
            "text/plain": [
              "<IPython.core.display.HTML object>"
            ]
          },
          "metadata": {},
          "output_type": "display_data"
        },
        {
          "data": {
            "text/html": [
              " View project at <a href='https://wandb.ai/hbminhquang-19-uit/Dataset%20Artifact' target=\"_blank\">https://wandb.ai/hbminhquang-19-uit/Dataset%20Artifact</a>"
            ],
            "text/plain": [
              "<IPython.core.display.HTML object>"
            ]
          },
          "metadata": {},
          "output_type": "display_data"
        },
        {
          "data": {
            "text/html": [
              " View run at <a href='https://wandb.ai/hbminhquang-19-uit/Dataset%20Artifact/runs/sdft1vfp' target=\"_blank\">https://wandb.ai/hbminhquang-19-uit/Dataset%20Artifact/runs/sdft1vfp</a>"
            ],
            "text/plain": [
              "<IPython.core.display.HTML object>"
            ]
          },
          "metadata": {},
          "output_type": "display_data"
        },
        {
          "data": {
            "text/html": [],
            "text/plain": [
              "<IPython.core.display.HTML object>"
            ]
          },
          "metadata": {},
          "output_type": "display_data"
        },
        {
          "data": {
            "text/html": [
              " View run <strong style=\"color:#cdcd00\">legendary-morning-2</strong> at: <a href='https://wandb.ai/hbminhquang-19-uit/Dataset%20Artifact/runs/sdft1vfp' target=\"_blank\">https://wandb.ai/hbminhquang-19-uit/Dataset%20Artifact/runs/sdft1vfp</a><br> View project at: <a href='https://wandb.ai/hbminhquang-19-uit/Dataset%20Artifact' target=\"_blank\">https://wandb.ai/hbminhquang-19-uit/Dataset%20Artifact</a><br>Synced 5 W&B file(s), 0 media file(s), 4 artifact file(s) and 0 other file(s)"
            ],
            "text/plain": [
              "<IPython.core.display.HTML object>"
            ]
          },
          "metadata": {},
          "output_type": "display_data"
        },
        {
          "data": {
            "text/html": [
              "Find logs at: <code>.\\wandb\\run-20250928_205833-sdft1vfp\\logs</code>"
            ],
            "text/plain": [
              "<IPython.core.display.HTML object>"
            ]
          },
          "metadata": {},
          "output_type": "display_data"
        }
      ],
      "source": [
        "run = wandb.init(project=\"Dataset Artifact\", job_type=\"data-loading\")\n",
        "\n",
        "raw_dataset_artifact = wandb.Artifact(\n",
        "    name='raw_cma_era5',\n",
        "    type='dataset',\n",
        "    description='Raw CMA ERA5 train/val/test data'\n",
        ")\n",
        "\n",
        "# add file\n",
        "raw_dataset_artifact.add_file('dataset/cma-era5-data/raw_cma_era5_train.pkl')\n",
        "raw_dataset_artifact.add_file('dataset/cma-era5-data/raw_cma_era5_val.pkl')\n",
        "raw_dataset_artifact.add_file('dataset/cma-era5-data/raw_cma_era5_test.pkl')\n",
        "\n",
        "# log artifact\n",
        "wandb.log_artifact(raw_dataset_artifact)\n",
        "\n",
        "run.finish()"
      ]
    },
    {
      "cell_type": "code",
      "execution_count": null,
      "metadata": {},
      "outputs": [],
      "source": [
        "def regist_dataset(file_path):\n",
        "    run = wandb.init(project=\"Dataset Artifact\", job_type=\"data-loading\")\n",
        "    name = file_path.split('/')[-1][:-4]\n",
        "    raw_dataset_artifact = wandb.Artifact(\n",
        "        name=name,\n",
        "        type='dataset',\n",
        "        description=name\n",
        "    )\n",
        "\n",
        "    raw_dataset_artifact.add_file(file_path)\n",
        "\n",
        "    wandb.log_artifact(raw_dataset_artifact)\n",
        "    run.finish()"
      ]
    },
    {
      "cell_type": "code",
      "execution_count": 10,
      "metadata": {},
      "outputs": [
        {
          "data": {
            "text/html": [
              "Finishing previous runs because reinit is set to 'default'."
            ],
            "text/plain": [
              "<IPython.core.display.HTML object>"
            ]
          },
          "metadata": {},
          "output_type": "display_data"
        },
        {
          "data": {
            "text/html": [],
            "text/plain": [
              "<IPython.core.display.HTML object>"
            ]
          },
          "metadata": {},
          "output_type": "display_data"
        },
        {
          "data": {
            "text/html": [
              " View run <strong style=\"color:#cdcd00\">confused-wood-4</strong> at: <a href='https://wandb.ai/hbminhquang-19-uit/Dataset%20Artifact/runs/3s8gki59' target=\"_blank\">https://wandb.ai/hbminhquang-19-uit/Dataset%20Artifact/runs/3s8gki59</a><br> View project at: <a href='https://wandb.ai/hbminhquang-19-uit/Dataset%20Artifact' target=\"_blank\">https://wandb.ai/hbminhquang-19-uit/Dataset%20Artifact</a><br>Synced 5 W&B file(s), 0 media file(s), 0 artifact file(s) and 0 other file(s)"
            ],
            "text/plain": [
              "<IPython.core.display.HTML object>"
            ]
          },
          "metadata": {},
          "output_type": "display_data"
        },
        {
          "data": {
            "text/html": [
              "Find logs at: <code>.\\wandb\\run-20250928_234634-3s8gki59\\logs</code>"
            ],
            "text/plain": [
              "<IPython.core.display.HTML object>"
            ]
          },
          "metadata": {},
          "output_type": "display_data"
        },
        {
          "data": {
            "text/html": [],
            "text/plain": [
              "<IPython.core.display.HTML object>"
            ]
          },
          "metadata": {},
          "output_type": "display_data"
        },
        {
          "data": {
            "text/html": [
              "Tracking run with wandb version 0.22.0"
            ],
            "text/plain": [
              "<IPython.core.display.HTML object>"
            ]
          },
          "metadata": {},
          "output_type": "display_data"
        },
        {
          "data": {
            "text/html": [
              "Run data is saved locally in <code>D:\\Learning\\NCKH\\Tropical Cyclone Forecasting\\wandb\\run-20250928_234726-zqvxwimu</code>"
            ],
            "text/plain": [
              "<IPython.core.display.HTML object>"
            ]
          },
          "metadata": {},
          "output_type": "display_data"
        },
        {
          "data": {
            "text/html": [
              "Syncing run <strong><a href='https://wandb.ai/hbminhquang-19-uit/Dataset%20Artifact/runs/zqvxwimu' target=\"_blank\">floral-night-5</a></strong> to <a href='https://wandb.ai/hbminhquang-19-uit/Dataset%20Artifact' target=\"_blank\">Weights & Biases</a> (<a href='https://wandb.me/developer-guide' target=\"_blank\">docs</a>)<br>"
            ],
            "text/plain": [
              "<IPython.core.display.HTML object>"
            ]
          },
          "metadata": {},
          "output_type": "display_data"
        },
        {
          "data": {
            "text/html": [
              " View project at <a href='https://wandb.ai/hbminhquang-19-uit/Dataset%20Artifact' target=\"_blank\">https://wandb.ai/hbminhquang-19-uit/Dataset%20Artifact</a>"
            ],
            "text/plain": [
              "<IPython.core.display.HTML object>"
            ]
          },
          "metadata": {},
          "output_type": "display_data"
        },
        {
          "data": {
            "text/html": [
              " View run at <a href='https://wandb.ai/hbminhquang-19-uit/Dataset%20Artifact/runs/zqvxwimu' target=\"_blank\">https://wandb.ai/hbminhquang-19-uit/Dataset%20Artifact/runs/zqvxwimu</a>"
            ],
            "text/plain": [
              "<IPython.core.display.HTML object>"
            ]
          },
          "metadata": {},
          "output_type": "display_data"
        },
        {
          "data": {
            "text/html": [],
            "text/plain": [
              "<IPython.core.display.HTML object>"
            ]
          },
          "metadata": {},
          "output_type": "display_data"
        },
        {
          "data": {
            "text/html": [
              " View run <strong style=\"color:#cdcd00\">floral-night-5</strong> at: <a href='https://wandb.ai/hbminhquang-19-uit/Dataset%20Artifact/runs/zqvxwimu' target=\"_blank\">https://wandb.ai/hbminhquang-19-uit/Dataset%20Artifact/runs/zqvxwimu</a><br> View project at: <a href='https://wandb.ai/hbminhquang-19-uit/Dataset%20Artifact' target=\"_blank\">https://wandb.ai/hbminhquang-19-uit/Dataset%20Artifact</a><br>Synced 5 W&B file(s), 0 media file(s), 2 artifact file(s) and 0 other file(s)"
            ],
            "text/plain": [
              "<IPython.core.display.HTML object>"
            ]
          },
          "metadata": {},
          "output_type": "display_data"
        },
        {
          "data": {
            "text/html": [
              "Find logs at: <code>.\\wandb\\run-20250928_234726-zqvxwimu\\logs</code>"
            ],
            "text/plain": [
              "<IPython.core.display.HTML object>"
            ]
          },
          "metadata": {},
          "output_type": "display_data"
        },
        {
          "data": {
            "text/html": [],
            "text/plain": [
              "<IPython.core.display.HTML object>"
            ]
          },
          "metadata": {},
          "output_type": "display_data"
        },
        {
          "data": {
            "text/html": [
              "Tracking run with wandb version 0.22.0"
            ],
            "text/plain": [
              "<IPython.core.display.HTML object>"
            ]
          },
          "metadata": {},
          "output_type": "display_data"
        },
        {
          "data": {
            "text/html": [
              "Run data is saved locally in <code>D:\\Learning\\NCKH\\Tropical Cyclone Forecasting\\wandb\\run-20250928_234735-djoe5g9b</code>"
            ],
            "text/plain": [
              "<IPython.core.display.HTML object>"
            ]
          },
          "metadata": {},
          "output_type": "display_data"
        },
        {
          "data": {
            "text/html": [
              "Syncing run <strong><a href='https://wandb.ai/hbminhquang-19-uit/Dataset%20Artifact/runs/djoe5g9b' target=\"_blank\">vivid-plant-6</a></strong> to <a href='https://wandb.ai/hbminhquang-19-uit/Dataset%20Artifact' target=\"_blank\">Weights & Biases</a> (<a href='https://wandb.me/developer-guide' target=\"_blank\">docs</a>)<br>"
            ],
            "text/plain": [
              "<IPython.core.display.HTML object>"
            ]
          },
          "metadata": {},
          "output_type": "display_data"
        },
        {
          "data": {
            "text/html": [
              " View project at <a href='https://wandb.ai/hbminhquang-19-uit/Dataset%20Artifact' target=\"_blank\">https://wandb.ai/hbminhquang-19-uit/Dataset%20Artifact</a>"
            ],
            "text/plain": [
              "<IPython.core.display.HTML object>"
            ]
          },
          "metadata": {},
          "output_type": "display_data"
        },
        {
          "data": {
            "text/html": [
              " View run at <a href='https://wandb.ai/hbminhquang-19-uit/Dataset%20Artifact/runs/djoe5g9b' target=\"_blank\">https://wandb.ai/hbminhquang-19-uit/Dataset%20Artifact/runs/djoe5g9b</a>"
            ],
            "text/plain": [
              "<IPython.core.display.HTML object>"
            ]
          },
          "metadata": {},
          "output_type": "display_data"
        },
        {
          "data": {
            "text/html": [],
            "text/plain": [
              "<IPython.core.display.HTML object>"
            ]
          },
          "metadata": {},
          "output_type": "display_data"
        },
        {
          "data": {
            "text/html": [
              " View run <strong style=\"color:#cdcd00\">vivid-plant-6</strong> at: <a href='https://wandb.ai/hbminhquang-19-uit/Dataset%20Artifact/runs/djoe5g9b' target=\"_blank\">https://wandb.ai/hbminhquang-19-uit/Dataset%20Artifact/runs/djoe5g9b</a><br> View project at: <a href='https://wandb.ai/hbminhquang-19-uit/Dataset%20Artifact' target=\"_blank\">https://wandb.ai/hbminhquang-19-uit/Dataset%20Artifact</a><br>Synced 5 W&B file(s), 0 media file(s), 2 artifact file(s) and 0 other file(s)"
            ],
            "text/plain": [
              "<IPython.core.display.HTML object>"
            ]
          },
          "metadata": {},
          "output_type": "display_data"
        },
        {
          "data": {
            "text/html": [
              "Find logs at: <code>.\\wandb\\run-20250928_234735-djoe5g9b\\logs</code>"
            ],
            "text/plain": [
              "<IPython.core.display.HTML object>"
            ]
          },
          "metadata": {},
          "output_type": "display_data"
        },
        {
          "data": {
            "text/html": [],
            "text/plain": [
              "<IPython.core.display.HTML object>"
            ]
          },
          "metadata": {},
          "output_type": "display_data"
        },
        {
          "data": {
            "text/html": [
              "Tracking run with wandb version 0.22.0"
            ],
            "text/plain": [
              "<IPython.core.display.HTML object>"
            ]
          },
          "metadata": {},
          "output_type": "display_data"
        },
        {
          "data": {
            "text/html": [
              "Run data is saved locally in <code>D:\\Learning\\NCKH\\Tropical Cyclone Forecasting\\wandb\\run-20250928_234741-pzvokej1</code>"
            ],
            "text/plain": [
              "<IPython.core.display.HTML object>"
            ]
          },
          "metadata": {},
          "output_type": "display_data"
        },
        {
          "data": {
            "text/html": [
              "Syncing run <strong><a href='https://wandb.ai/hbminhquang-19-uit/Dataset%20Artifact/runs/pzvokej1' target=\"_blank\">easy-night-7</a></strong> to <a href='https://wandb.ai/hbminhquang-19-uit/Dataset%20Artifact' target=\"_blank\">Weights & Biases</a> (<a href='https://wandb.me/developer-guide' target=\"_blank\">docs</a>)<br>"
            ],
            "text/plain": [
              "<IPython.core.display.HTML object>"
            ]
          },
          "metadata": {},
          "output_type": "display_data"
        },
        {
          "data": {
            "text/html": [
              " View project at <a href='https://wandb.ai/hbminhquang-19-uit/Dataset%20Artifact' target=\"_blank\">https://wandb.ai/hbminhquang-19-uit/Dataset%20Artifact</a>"
            ],
            "text/plain": [
              "<IPython.core.display.HTML object>"
            ]
          },
          "metadata": {},
          "output_type": "display_data"
        },
        {
          "data": {
            "text/html": [
              " View run at <a href='https://wandb.ai/hbminhquang-19-uit/Dataset%20Artifact/runs/pzvokej1' target=\"_blank\">https://wandb.ai/hbminhquang-19-uit/Dataset%20Artifact/runs/pzvokej1</a>"
            ],
            "text/plain": [
              "<IPython.core.display.HTML object>"
            ]
          },
          "metadata": {},
          "output_type": "display_data"
        },
        {
          "data": {
            "text/html": [],
            "text/plain": [
              "<IPython.core.display.HTML object>"
            ]
          },
          "metadata": {},
          "output_type": "display_data"
        },
        {
          "data": {
            "text/html": [
              " View run <strong style=\"color:#cdcd00\">easy-night-7</strong> at: <a href='https://wandb.ai/hbminhquang-19-uit/Dataset%20Artifact/runs/pzvokej1' target=\"_blank\">https://wandb.ai/hbminhquang-19-uit/Dataset%20Artifact/runs/pzvokej1</a><br> View project at: <a href='https://wandb.ai/hbminhquang-19-uit/Dataset%20Artifact' target=\"_blank\">https://wandb.ai/hbminhquang-19-uit/Dataset%20Artifact</a><br>Synced 5 W&B file(s), 0 media file(s), 2 artifact file(s) and 0 other file(s)"
            ],
            "text/plain": [
              "<IPython.core.display.HTML object>"
            ]
          },
          "metadata": {},
          "output_type": "display_data"
        },
        {
          "data": {
            "text/html": [
              "Find logs at: <code>.\\wandb\\run-20250928_234741-pzvokej1\\logs</code>"
            ],
            "text/plain": [
              "<IPython.core.display.HTML object>"
            ]
          },
          "metadata": {},
          "output_type": "display_data"
        },
        {
          "data": {
            "text/html": [],
            "text/plain": [
              "<IPython.core.display.HTML object>"
            ]
          },
          "metadata": {},
          "output_type": "display_data"
        },
        {
          "data": {
            "text/html": [
              "Tracking run with wandb version 0.22.0"
            ],
            "text/plain": [
              "<IPython.core.display.HTML object>"
            ]
          },
          "metadata": {},
          "output_type": "display_data"
        },
        {
          "data": {
            "text/html": [
              "Run data is saved locally in <code>D:\\Learning\\NCKH\\Tropical Cyclone Forecasting\\wandb\\run-20250928_234748-xqkn30yu</code>"
            ],
            "text/plain": [
              "<IPython.core.display.HTML object>"
            ]
          },
          "metadata": {},
          "output_type": "display_data"
        },
        {
          "data": {
            "text/html": [
              "Syncing run <strong><a href='https://wandb.ai/hbminhquang-19-uit/Dataset%20Artifact/runs/xqkn30yu' target=\"_blank\">golden-pine-8</a></strong> to <a href='https://wandb.ai/hbminhquang-19-uit/Dataset%20Artifact' target=\"_blank\">Weights & Biases</a> (<a href='https://wandb.me/developer-guide' target=\"_blank\">docs</a>)<br>"
            ],
            "text/plain": [
              "<IPython.core.display.HTML object>"
            ]
          },
          "metadata": {},
          "output_type": "display_data"
        },
        {
          "data": {
            "text/html": [
              " View project at <a href='https://wandb.ai/hbminhquang-19-uit/Dataset%20Artifact' target=\"_blank\">https://wandb.ai/hbminhquang-19-uit/Dataset%20Artifact</a>"
            ],
            "text/plain": [
              "<IPython.core.display.HTML object>"
            ]
          },
          "metadata": {},
          "output_type": "display_data"
        },
        {
          "data": {
            "text/html": [
              " View run at <a href='https://wandb.ai/hbminhquang-19-uit/Dataset%20Artifact/runs/xqkn30yu' target=\"_blank\">https://wandb.ai/hbminhquang-19-uit/Dataset%20Artifact/runs/xqkn30yu</a>"
            ],
            "text/plain": [
              "<IPython.core.display.HTML object>"
            ]
          },
          "metadata": {},
          "output_type": "display_data"
        },
        {
          "data": {
            "text/html": [],
            "text/plain": [
              "<IPython.core.display.HTML object>"
            ]
          },
          "metadata": {},
          "output_type": "display_data"
        },
        {
          "data": {
            "text/html": [
              " View run <strong style=\"color:#cdcd00\">golden-pine-8</strong> at: <a href='https://wandb.ai/hbminhquang-19-uit/Dataset%20Artifact/runs/xqkn30yu' target=\"_blank\">https://wandb.ai/hbminhquang-19-uit/Dataset%20Artifact/runs/xqkn30yu</a><br> View project at: <a href='https://wandb.ai/hbminhquang-19-uit/Dataset%20Artifact' target=\"_blank\">https://wandb.ai/hbminhquang-19-uit/Dataset%20Artifact</a><br>Synced 5 W&B file(s), 0 media file(s), 2 artifact file(s) and 0 other file(s)"
            ],
            "text/plain": [
              "<IPython.core.display.HTML object>"
            ]
          },
          "metadata": {},
          "output_type": "display_data"
        },
        {
          "data": {
            "text/html": [
              "Find logs at: <code>.\\wandb\\run-20250928_234748-xqkn30yu\\logs</code>"
            ],
            "text/plain": [
              "<IPython.core.display.HTML object>"
            ]
          },
          "metadata": {},
          "output_type": "display_data"
        },
        {
          "data": {
            "text/html": [],
            "text/plain": [
              "<IPython.core.display.HTML object>"
            ]
          },
          "metadata": {},
          "output_type": "display_data"
        },
        {
          "data": {
            "text/html": [
              "Tracking run with wandb version 0.22.0"
            ],
            "text/plain": [
              "<IPython.core.display.HTML object>"
            ]
          },
          "metadata": {},
          "output_type": "display_data"
        },
        {
          "data": {
            "text/html": [
              "Run data is saved locally in <code>D:\\Learning\\NCKH\\Tropical Cyclone Forecasting\\wandb\\run-20250928_235022-iygl2fci</code>"
            ],
            "text/plain": [
              "<IPython.core.display.HTML object>"
            ]
          },
          "metadata": {},
          "output_type": "display_data"
        },
        {
          "data": {
            "text/html": [
              "Syncing run <strong><a href='https://wandb.ai/hbminhquang-19-uit/Dataset%20Artifact/runs/iygl2fci' target=\"_blank\">fanciful-star-9</a></strong> to <a href='https://wandb.ai/hbminhquang-19-uit/Dataset%20Artifact' target=\"_blank\">Weights & Biases</a> (<a href='https://wandb.me/developer-guide' target=\"_blank\">docs</a>)<br>"
            ],
            "text/plain": [
              "<IPython.core.display.HTML object>"
            ]
          },
          "metadata": {},
          "output_type": "display_data"
        },
        {
          "data": {
            "text/html": [
              " View project at <a href='https://wandb.ai/hbminhquang-19-uit/Dataset%20Artifact' target=\"_blank\">https://wandb.ai/hbminhquang-19-uit/Dataset%20Artifact</a>"
            ],
            "text/plain": [
              "<IPython.core.display.HTML object>"
            ]
          },
          "metadata": {},
          "output_type": "display_data"
        },
        {
          "data": {
            "text/html": [
              " View run at <a href='https://wandb.ai/hbminhquang-19-uit/Dataset%20Artifact/runs/iygl2fci' target=\"_blank\">https://wandb.ai/hbminhquang-19-uit/Dataset%20Artifact/runs/iygl2fci</a>"
            ],
            "text/plain": [
              "<IPython.core.display.HTML object>"
            ]
          },
          "metadata": {},
          "output_type": "display_data"
        },
        {
          "data": {
            "text/html": [],
            "text/plain": [
              "<IPython.core.display.HTML object>"
            ]
          },
          "metadata": {},
          "output_type": "display_data"
        },
        {
          "data": {
            "text/html": [
              " View run <strong style=\"color:#cdcd00\">fanciful-star-9</strong> at: <a href='https://wandb.ai/hbminhquang-19-uit/Dataset%20Artifact/runs/iygl2fci' target=\"_blank\">https://wandb.ai/hbminhquang-19-uit/Dataset%20Artifact/runs/iygl2fci</a><br> View project at: <a href='https://wandb.ai/hbminhquang-19-uit/Dataset%20Artifact' target=\"_blank\">https://wandb.ai/hbminhquang-19-uit/Dataset%20Artifact</a><br>Synced 5 W&B file(s), 0 media file(s), 2 artifact file(s) and 0 other file(s)"
            ],
            "text/plain": [
              "<IPython.core.display.HTML object>"
            ]
          },
          "metadata": {},
          "output_type": "display_data"
        },
        {
          "data": {
            "text/html": [
              "Find logs at: <code>.\\wandb\\run-20250928_235022-iygl2fci\\logs</code>"
            ],
            "text/plain": [
              "<IPython.core.display.HTML object>"
            ]
          },
          "metadata": {},
          "output_type": "display_data"
        },
        {
          "data": {
            "text/html": [],
            "text/plain": [
              "<IPython.core.display.HTML object>"
            ]
          },
          "metadata": {},
          "output_type": "display_data"
        },
        {
          "data": {
            "text/html": [
              "Tracking run with wandb version 0.22.0"
            ],
            "text/plain": [
              "<IPython.core.display.HTML object>"
            ]
          },
          "metadata": {},
          "output_type": "display_data"
        },
        {
          "data": {
            "text/html": [
              "Run data is saved locally in <code>D:\\Learning\\NCKH\\Tropical Cyclone Forecasting\\wandb\\run-20250928_235028-6jl36ph7</code>"
            ],
            "text/plain": [
              "<IPython.core.display.HTML object>"
            ]
          },
          "metadata": {},
          "output_type": "display_data"
        },
        {
          "data": {
            "text/html": [
              "Syncing run <strong><a href='https://wandb.ai/hbminhquang-19-uit/Dataset%20Artifact/runs/6jl36ph7' target=\"_blank\">pleasant-haze-10</a></strong> to <a href='https://wandb.ai/hbminhquang-19-uit/Dataset%20Artifact' target=\"_blank\">Weights & Biases</a> (<a href='https://wandb.me/developer-guide' target=\"_blank\">docs</a>)<br>"
            ],
            "text/plain": [
              "<IPython.core.display.HTML object>"
            ]
          },
          "metadata": {},
          "output_type": "display_data"
        },
        {
          "data": {
            "text/html": [
              " View project at <a href='https://wandb.ai/hbminhquang-19-uit/Dataset%20Artifact' target=\"_blank\">https://wandb.ai/hbminhquang-19-uit/Dataset%20Artifact</a>"
            ],
            "text/plain": [
              "<IPython.core.display.HTML object>"
            ]
          },
          "metadata": {},
          "output_type": "display_data"
        },
        {
          "data": {
            "text/html": [
              " View run at <a href='https://wandb.ai/hbminhquang-19-uit/Dataset%20Artifact/runs/6jl36ph7' target=\"_blank\">https://wandb.ai/hbminhquang-19-uit/Dataset%20Artifact/runs/6jl36ph7</a>"
            ],
            "text/plain": [
              "<IPython.core.display.HTML object>"
            ]
          },
          "metadata": {},
          "output_type": "display_data"
        },
        {
          "data": {
            "text/html": [],
            "text/plain": [
              "<IPython.core.display.HTML object>"
            ]
          },
          "metadata": {},
          "output_type": "display_data"
        },
        {
          "data": {
            "text/html": [
              " View run <strong style=\"color:#cdcd00\">pleasant-haze-10</strong> at: <a href='https://wandb.ai/hbminhquang-19-uit/Dataset%20Artifact/runs/6jl36ph7' target=\"_blank\">https://wandb.ai/hbminhquang-19-uit/Dataset%20Artifact/runs/6jl36ph7</a><br> View project at: <a href='https://wandb.ai/hbminhquang-19-uit/Dataset%20Artifact' target=\"_blank\">https://wandb.ai/hbminhquang-19-uit/Dataset%20Artifact</a><br>Synced 5 W&B file(s), 0 media file(s), 2 artifact file(s) and 0 other file(s)"
            ],
            "text/plain": [
              "<IPython.core.display.HTML object>"
            ]
          },
          "metadata": {},
          "output_type": "display_data"
        },
        {
          "data": {
            "text/html": [
              "Find logs at: <code>.\\wandb\\run-20250928_235028-6jl36ph7\\logs</code>"
            ],
            "text/plain": [
              "<IPython.core.display.HTML object>"
            ]
          },
          "metadata": {},
          "output_type": "display_data"
        },
        {
          "data": {
            "text/html": [],
            "text/plain": [
              "<IPython.core.display.HTML object>"
            ]
          },
          "metadata": {},
          "output_type": "display_data"
        },
        {
          "data": {
            "text/html": [
              "Tracking run with wandb version 0.22.0"
            ],
            "text/plain": [
              "<IPython.core.display.HTML object>"
            ]
          },
          "metadata": {},
          "output_type": "display_data"
        },
        {
          "data": {
            "text/html": [
              "Run data is saved locally in <code>D:\\Learning\\NCKH\\Tropical Cyclone Forecasting\\wandb\\run-20250928_235104-4yygedqi</code>"
            ],
            "text/plain": [
              "<IPython.core.display.HTML object>"
            ]
          },
          "metadata": {},
          "output_type": "display_data"
        },
        {
          "data": {
            "text/html": [
              "Syncing run <strong><a href='https://wandb.ai/hbminhquang-19-uit/Dataset%20Artifact/runs/4yygedqi' target=\"_blank\">revived-armadillo-11</a></strong> to <a href='https://wandb.ai/hbminhquang-19-uit/Dataset%20Artifact' target=\"_blank\">Weights & Biases</a> (<a href='https://wandb.me/developer-guide' target=\"_blank\">docs</a>)<br>"
            ],
            "text/plain": [
              "<IPython.core.display.HTML object>"
            ]
          },
          "metadata": {},
          "output_type": "display_data"
        },
        {
          "data": {
            "text/html": [
              " View project at <a href='https://wandb.ai/hbminhquang-19-uit/Dataset%20Artifact' target=\"_blank\">https://wandb.ai/hbminhquang-19-uit/Dataset%20Artifact</a>"
            ],
            "text/plain": [
              "<IPython.core.display.HTML object>"
            ]
          },
          "metadata": {},
          "output_type": "display_data"
        },
        {
          "data": {
            "text/html": [
              " View run at <a href='https://wandb.ai/hbminhquang-19-uit/Dataset%20Artifact/runs/4yygedqi' target=\"_blank\">https://wandb.ai/hbminhquang-19-uit/Dataset%20Artifact/runs/4yygedqi</a>"
            ],
            "text/plain": [
              "<IPython.core.display.HTML object>"
            ]
          },
          "metadata": {},
          "output_type": "display_data"
        },
        {
          "data": {
            "text/html": [],
            "text/plain": [
              "<IPython.core.display.HTML object>"
            ]
          },
          "metadata": {},
          "output_type": "display_data"
        },
        {
          "data": {
            "text/html": [
              " View run <strong style=\"color:#cdcd00\">revived-armadillo-11</strong> at: <a href='https://wandb.ai/hbminhquang-19-uit/Dataset%20Artifact/runs/4yygedqi' target=\"_blank\">https://wandb.ai/hbminhquang-19-uit/Dataset%20Artifact/runs/4yygedqi</a><br> View project at: <a href='https://wandb.ai/hbminhquang-19-uit/Dataset%20Artifact' target=\"_blank\">https://wandb.ai/hbminhquang-19-uit/Dataset%20Artifact</a><br>Synced 5 W&B file(s), 0 media file(s), 2 artifact file(s) and 0 other file(s)"
            ],
            "text/plain": [
              "<IPython.core.display.HTML object>"
            ]
          },
          "metadata": {},
          "output_type": "display_data"
        },
        {
          "data": {
            "text/html": [
              "Find logs at: <code>.\\wandb\\run-20250928_235104-4yygedqi\\logs</code>"
            ],
            "text/plain": [
              "<IPython.core.display.HTML object>"
            ]
          },
          "metadata": {},
          "output_type": "display_data"
        },
        {
          "data": {
            "text/html": [],
            "text/plain": [
              "<IPython.core.display.HTML object>"
            ]
          },
          "metadata": {},
          "output_type": "display_data"
        },
        {
          "data": {
            "text/html": [
              "Tracking run with wandb version 0.22.0"
            ],
            "text/plain": [
              "<IPython.core.display.HTML object>"
            ]
          },
          "metadata": {},
          "output_type": "display_data"
        },
        {
          "data": {
            "text/html": [
              "Run data is saved locally in <code>D:\\Learning\\NCKH\\Tropical Cyclone Forecasting\\wandb\\run-20250928_235203-uor8g92m</code>"
            ],
            "text/plain": [
              "<IPython.core.display.HTML object>"
            ]
          },
          "metadata": {},
          "output_type": "display_data"
        },
        {
          "data": {
            "text/html": [
              "Syncing run <strong><a href='https://wandb.ai/hbminhquang-19-uit/Dataset%20Artifact/runs/uor8g92m' target=\"_blank\">earnest-river-12</a></strong> to <a href='https://wandb.ai/hbminhquang-19-uit/Dataset%20Artifact' target=\"_blank\">Weights & Biases</a> (<a href='https://wandb.me/developer-guide' target=\"_blank\">docs</a>)<br>"
            ],
            "text/plain": [
              "<IPython.core.display.HTML object>"
            ]
          },
          "metadata": {},
          "output_type": "display_data"
        },
        {
          "data": {
            "text/html": [
              " View project at <a href='https://wandb.ai/hbminhquang-19-uit/Dataset%20Artifact' target=\"_blank\">https://wandb.ai/hbminhquang-19-uit/Dataset%20Artifact</a>"
            ],
            "text/plain": [
              "<IPython.core.display.HTML object>"
            ]
          },
          "metadata": {},
          "output_type": "display_data"
        },
        {
          "data": {
            "text/html": [
              " View run at <a href='https://wandb.ai/hbminhquang-19-uit/Dataset%20Artifact/runs/uor8g92m' target=\"_blank\">https://wandb.ai/hbminhquang-19-uit/Dataset%20Artifact/runs/uor8g92m</a>"
            ],
            "text/plain": [
              "<IPython.core.display.HTML object>"
            ]
          },
          "metadata": {},
          "output_type": "display_data"
        },
        {
          "data": {
            "text/html": [],
            "text/plain": [
              "<IPython.core.display.HTML object>"
            ]
          },
          "metadata": {},
          "output_type": "display_data"
        },
        {
          "data": {
            "text/html": [
              " View run <strong style=\"color:#cdcd00\">earnest-river-12</strong> at: <a href='https://wandb.ai/hbminhquang-19-uit/Dataset%20Artifact/runs/uor8g92m' target=\"_blank\">https://wandb.ai/hbminhquang-19-uit/Dataset%20Artifact/runs/uor8g92m</a><br> View project at: <a href='https://wandb.ai/hbminhquang-19-uit/Dataset%20Artifact' target=\"_blank\">https://wandb.ai/hbminhquang-19-uit/Dataset%20Artifact</a><br>Synced 5 W&B file(s), 0 media file(s), 2 artifact file(s) and 0 other file(s)"
            ],
            "text/plain": [
              "<IPython.core.display.HTML object>"
            ]
          },
          "metadata": {},
          "output_type": "display_data"
        },
        {
          "data": {
            "text/html": [
              "Find logs at: <code>.\\wandb\\run-20250928_235203-uor8g92m\\logs</code>"
            ],
            "text/plain": [
              "<IPython.core.display.HTML object>"
            ]
          },
          "metadata": {},
          "output_type": "display_data"
        },
        {
          "data": {
            "text/html": [],
            "text/plain": [
              "<IPython.core.display.HTML object>"
            ]
          },
          "metadata": {},
          "output_type": "display_data"
        },
        {
          "data": {
            "text/html": [
              "Tracking run with wandb version 0.22.0"
            ],
            "text/plain": [
              "<IPython.core.display.HTML object>"
            ]
          },
          "metadata": {},
          "output_type": "display_data"
        },
        {
          "data": {
            "text/html": [
              "Run data is saved locally in <code>D:\\Learning\\NCKH\\Tropical Cyclone Forecasting\\wandb\\run-20250928_235325-w4p4goni</code>"
            ],
            "text/plain": [
              "<IPython.core.display.HTML object>"
            ]
          },
          "metadata": {},
          "output_type": "display_data"
        },
        {
          "data": {
            "text/html": [
              "Syncing run <strong><a href='https://wandb.ai/hbminhquang-19-uit/Dataset%20Artifact/runs/w4p4goni' target=\"_blank\">fearless-grass-13</a></strong> to <a href='https://wandb.ai/hbminhquang-19-uit/Dataset%20Artifact' target=\"_blank\">Weights & Biases</a> (<a href='https://wandb.me/developer-guide' target=\"_blank\">docs</a>)<br>"
            ],
            "text/plain": [
              "<IPython.core.display.HTML object>"
            ]
          },
          "metadata": {},
          "output_type": "display_data"
        },
        {
          "data": {
            "text/html": [
              " View project at <a href='https://wandb.ai/hbminhquang-19-uit/Dataset%20Artifact' target=\"_blank\">https://wandb.ai/hbminhquang-19-uit/Dataset%20Artifact</a>"
            ],
            "text/plain": [
              "<IPython.core.display.HTML object>"
            ]
          },
          "metadata": {},
          "output_type": "display_data"
        },
        {
          "data": {
            "text/html": [
              " View run at <a href='https://wandb.ai/hbminhquang-19-uit/Dataset%20Artifact/runs/w4p4goni' target=\"_blank\">https://wandb.ai/hbminhquang-19-uit/Dataset%20Artifact/runs/w4p4goni</a>"
            ],
            "text/plain": [
              "<IPython.core.display.HTML object>"
            ]
          },
          "metadata": {},
          "output_type": "display_data"
        },
        {
          "data": {
            "text/html": [],
            "text/plain": [
              "<IPython.core.display.HTML object>"
            ]
          },
          "metadata": {},
          "output_type": "display_data"
        },
        {
          "data": {
            "text/html": [
              " View run <strong style=\"color:#cdcd00\">fearless-grass-13</strong> at: <a href='https://wandb.ai/hbminhquang-19-uit/Dataset%20Artifact/runs/w4p4goni' target=\"_blank\">https://wandb.ai/hbminhquang-19-uit/Dataset%20Artifact/runs/w4p4goni</a><br> View project at: <a href='https://wandb.ai/hbminhquang-19-uit/Dataset%20Artifact' target=\"_blank\">https://wandb.ai/hbminhquang-19-uit/Dataset%20Artifact</a><br>Synced 5 W&B file(s), 0 media file(s), 2 artifact file(s) and 0 other file(s)"
            ],
            "text/plain": [
              "<IPython.core.display.HTML object>"
            ]
          },
          "metadata": {},
          "output_type": "display_data"
        },
        {
          "data": {
            "text/html": [
              "Find logs at: <code>.\\wandb\\run-20250928_235325-w4p4goni\\logs</code>"
            ],
            "text/plain": [
              "<IPython.core.display.HTML object>"
            ]
          },
          "metadata": {},
          "output_type": "display_data"
        }
      ],
      "source": [
        "file_paths = ['dataset/raw_ETTh1.csv', 'dataset/raw_ETTh2.csv', 'dataset/raw_ETTm1.csv', 'dataset/raw_electricity.csv', 'dataset/raw_exchange_rate.csv', 'dataset/raw_PEMS03.pkl', 'dataset/raw_PEMS04.pkl', 'dataset/raw_PEMS07.pkl', 'dataset/raw_PEMS08.pkl']\n",
        "for file_path in file_paths:\n",
        "    regist_dataset(file_path)"
      ]
    }
  ],
  "metadata": {
    "colab": {
      "provenance": []
    },
    "kernelspec": {
      "display_name": "Python 3 (ipykernel)",
      "language": "python",
      "name": "python3"
    },
    "language_info": {
      "codemirror_mode": {
        "name": "ipython",
        "version": 3
      },
      "file_extension": ".py",
      "mimetype": "text/x-python",
      "name": "python",
      "nbconvert_exporter": "python",
      "pygments_lexer": "ipython3",
      "version": "3.10.18"
    }
  },
  "nbformat": 4,
  "nbformat_minor": 0
}
