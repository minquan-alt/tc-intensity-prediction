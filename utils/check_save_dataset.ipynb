{
 "cells": [
  {
   "cell_type": "code",
   "execution_count": 32,
   "id": "b363135c",
   "metadata": {},
   "outputs": [],
   "source": [
    "import torch\n",
    "from torch.utils.data import Dataset, DataLoader\n",
    "from typing import Tuple, List\n",
    "import os\n",
    "import pandas as pd\n",
    "import numpy as np\n",
    "import pickle\n",
    "import time\n",
    "import gc"
   ]
  },
  {
   "cell_type": "code",
   "execution_count": null,
   "id": "d0915bdb",
   "metadata": {},
   "outputs": [],
   "source": [
    "data_path = 'data/cma-era5-data'\n",
    "raw_train_data, raw_val_data, raw_test_data = load_and_process_data(data_path=data_path, train_years=list(range(1980, 2017)), val_years=[2017, 2018, 2019], test_years=[2020, 2021, 2022])\n",
    "\n",
    "with open('dataset/cma-era5-data/raw_cma_era5_train.pkl', 'wb') as f:\n",
    "    pickle.dump(raw_train_data, f)\n",
    "with open('dataset/cma-era5-data/raw_cma_era5_val.pkl', 'wb') as f:\n",
    "    pickle.dump(raw_val_data, f)\n",
    "with open('dataset/cma-era5-data/raw_cma_era5_test.pkl', 'wb') as f:\n",
    "    pickle.dump(raw_test_data, f)"
   ]
  },
  {
   "cell_type": "code",
   "execution_count": null,
   "id": "e83e4619",
   "metadata": {},
   "outputs": [
    {
     "name": "stdout",
     "output_type": "stream",
     "text": [
      "        date  Australia  British    Canada  Switzerland     China     Japan  \\\n",
      "0 1990-01-01     0.7855   1.6110  0.861698     0.634196  0.211242  0.006838   \n",
      "1 1990-01-02     0.7818   1.6100  0.861104     0.633513  0.211242  0.006863   \n",
      "2 1990-01-03     0.7867   1.6293  0.861030     0.648508  0.211242  0.006975   \n",
      "3 1990-01-04     0.7860   1.6370  0.862069     0.650618  0.211242  0.006953   \n",
      "4 1990-01-05     0.7849   1.6530  0.861995     0.656254  0.211242  0.006940   \n",
      "\n",
      "   NewZealand  Singapore  \n",
      "0      0.5930   0.525486  \n",
      "1      0.5940   0.523972  \n",
      "2      0.5973   0.526316  \n",
      "3      0.5970   0.523834  \n",
      "4      0.5985   0.527426  \n",
      "           date  Australia   British    Canada  Switzerland     China  \\\n",
      "7583 2010-10-06   0.718494  1.222195  0.737485     0.969974  0.143697   \n",
      "7584 2010-10-07   0.721839  1.223459  0.741155     0.977297  0.143763   \n",
      "7585 2010-10-08   0.723197  1.234111  0.745184     0.984446  0.143997   \n",
      "7586 2010-10-09   0.720825  1.233905  0.744131     0.980344  0.143993   \n",
      "7587 2010-10-10   0.720825  1.233905  0.744131     0.980344  0.143993   \n",
      "\n",
      "         Japan  NewZealand  Singapore  \n",
      "7583  0.008500    0.690846   0.688565  \n",
      "7584  0.008595    0.695701   0.690288  \n",
      "7585  0.008562    0.695943   0.691419  \n",
      "7586  0.008555    0.692689   0.690942  \n",
      "7587  0.008555    0.692689   0.690942  \n"
     ]
    }
   ],
   "source": [
    "file_path = 'data/financial/exchange_rate.txt.gz'\n",
    "\n",
    "df = pd.read_csv(file_path, sep=',', header=None, compression='gzip')\n",
    "date_range = pd.date_range(start='1990-01-01', periods=len(df), freq='D')\n",
    "df.insert(0, 'date', date_range)\n",
    "df.columns = ['date','Australia','British','Canada','Switzerland','China','Japan','NewZealand','Singapore']\n",
    "print(df.head())\n",
    "print(df.tail())\n",
    "df.to_csv('dataset/raw_exchange_rate.csv')"
   ]
  },
  {
   "cell_type": "code",
   "execution_count": 35,
   "id": "39f62f9e",
   "metadata": {},
   "outputs": [
    {
     "name": "stderr",
     "output_type": "stream",
     "text": [
      "C:\\Users\\Admin\\AppData\\Local\\Temp\\ipykernel_22420\\669958552.py:2: DtypeWarning: Columns (1,2,3,4,5,6,7,8,9,10,11,12,13,14,15,16,17,18,19,20,21,22,23,24,25,26,27,28,29,30,31,32,33,34,35,36,37,38,39,40,41,42,43,44,45,46,47,48,49,50,51,52,53,54,55,56,57,58,59,60,61,62,63,64,65,66,67,68,69,70,71,72,73,74,75,76,77,78,79,80,81,82,83,84,85,86,87,88,89,90,91,92,93,94,95,96,97,98,99,100,101,102,103,104,105,106,107,108,109,110,111,112,113,114,115,116,117,118,119,120,121,122,123,125,126,127,128,129,130,131,133,134,135,136,137,138,139,140,141,142,143,144,145,146,147,148,149,150,151,152,153,154,155,157,160,164,165,167,170,173,177,178,179,181,184,185,186,223,224,255,280,289,305,308,322,332,333,334,335,336,337,338,339,340,341,342,343,344,345,346,347,348,349,350,351,352,353,354,355,356,357,358,359,360,361,363,364,365,366,367,368,369,370) have mixed types. Specify dtype option on import or set low_memory=False.\n",
      "  df = pd.read_csv(file_path, sep=';')\n"
     ]
    }
   ],
   "source": [
    "file_path = file_path = 'data/financial/electricity.txt'\n",
    "df = pd.read_csv(file_path, sep=';')\n",
    "\n",
    "df = df.rename(columns={'Unnamed: 0': 'date'})\n",
    "df['date'] = pd.to_datetime(df['date'])\n",
    "\n",
    "df.to_csv('dataset/raw_electricity.csv')"
   ]
  },
  {
   "cell_type": "code",
   "execution_count": 35,
   "id": "8e79ea82",
   "metadata": {},
   "outputs": [],
   "source": [
    "import numpy as np\n",
    "import pickle\n",
    "\n",
    "file_paths = ['data/PEM/PEMS03.npz', 'data/PEM/PEMS04.npz', 'data/PEM/PEMS07.npz', 'data/PEM/PEMS08.npz']\n",
    "for file_path in file_paths:\n",
    "    name = file_path.split('/')[-1][:-4]\n",
    "    data = np.load(file_path, allow_pickle=True)['data']\n",
    "    with open(f'dataset/{name}.pkl', 'wb') as f:\n",
    "        pickle.dump(data, f)"
   ]
  }
 ],
 "metadata": {
  "kernelspec": {
   "display_name": "Python 3 (ipykernel)",
   "language": "python",
   "name": "python3"
  },
  "language_info": {
   "codemirror_mode": {
    "name": "ipython",
    "version": 3
   },
   "file_extension": ".py",
   "mimetype": "text/x-python",
   "name": "python",
   "nbconvert_exporter": "python",
   "pygments_lexer": "ipython3",
   "version": "3.10.18"
  }
 },
 "nbformat": 4,
 "nbformat_minor": 5
}
